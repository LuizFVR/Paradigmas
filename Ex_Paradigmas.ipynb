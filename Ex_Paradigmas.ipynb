{
  "nbformat": 4,
  "nbformat_minor": 0,
  "metadata": {
    "colab": {
      "provenance": []
    },
    "kernelspec": {
      "name": "python3",
      "display_name": "Python 3"
    },
    "language_info": {
      "name": "python"
    }
  },
  "cells": [
    {
      "cell_type": "markdown",
      "source": [
        "Exercício 01:\n",
        "\n",
        "Fazer a leitura de duas notas e calcular sua média"
      ],
      "metadata": {
        "id": "eUUrOj41raxg"
      }
    },
    {
      "cell_type": "code",
      "source": [
        "# Solicita ao usuário para inserir as notas\n",
        "nota1 = float(input(\"Insira a sua primeira nota: \"))\n",
        "nota2 = float(input(\"Insira a sua segunda nota: \"))\n",
        "\n",
        "# Calcula a média das notas\n",
        "media = (nota1 + nota2) / 2\n",
        "\n",
        "# Exibe a média ao usuário\n",
        "print(\"A sua média é:\", media)\n"
      ],
      "metadata": {
        "colab": {
          "base_uri": "https://localhost:8080/"
        },
        "id": "ZYRRUPdgrdq_",
        "outputId": "f4acbe8f-9bd8-44c7-ac46-2a9cf5cbd21e"
      },
      "execution_count": 1,
      "outputs": [
        {
          "output_type": "stream",
          "name": "stdout",
          "text": [
            "Insira a sua primeira nota: 1\n",
            "Insira a sua segunda nota: 2\n",
            "A sua média é: 1.5\n"
          ]
        }
      ]
    },
    {
      "cell_type": "markdown",
      "source": [
        "Exercício 02:\n",
        "\n",
        "Escrevedo o mesmo problema modularizado"
      ],
      "metadata": {
        "id": "wsxeH7tJsBl_"
      }
    },
    {
      "cell_type": "code",
      "source": [
        "def calcular_media():\n",
        "    nota1 = float(input(\"Informe a sua primeira nota: \"))\n",
        "    nota2 = float(input(\"Informe a sua segunda nota: \"))\n",
        "    media = (nota1 + nota2) / 2\n",
        "    return media\n",
        "\n",
        "media_final = calcular_media()\n",
        "print(\"A sua média é:\", media_final)"
      ],
      "metadata": {
        "colab": {
          "base_uri": "https://localhost:8080/"
        },
        "id": "97n8qpr7sGKY",
        "outputId": "1820769e-1938-4940-de6e-020ccb121717"
      },
      "execution_count": 2,
      "outputs": [
        {
          "output_type": "stream",
          "name": "stdout",
          "text": [
            "Informe a sua primeira nota: 2\n",
            "Informe a sua segunda nota: 5\n",
            "A sua média é: 3.5\n"
          ]
        }
      ]
    },
    {
      "cell_type": "markdown",
      "source": [
        "Exercício 03:\n",
        "\n",
        "Faça um programa que solicite o preço de uma mercadoria e o percentual de desconto.\n",
        "\n",
        "Exiba o valor do desconto e o preço a pagar."
      ],
      "metadata": {
        "id": "yX8LrKUeshVD"
      }
    },
    {
      "cell_type": "code",
      "source": [
        "def calcula_desconto(preco, desconto):\n",
        "    return (preco * desconto) / 100\n",
        "\n",
        "preco = float(input(\"Informe o preço da mercadoria: \"))\n",
        "desconto = int(input(\"Informe o desconto em porcentagem (%): \"))\n",
        "\n",
        "valor_desconto = calcula_desconto(preco, desconto)\n",
        "\n",
        "valor_pagar = preco - valor_desconto\n",
        "\n",
        "print(\"Valor do desconto: %.2f\" % valor_desconto)\n",
        "print(\"Preço a pagar: %.2f\" % valor_pagar)\n"
      ],
      "metadata": {
        "id": "WsmPzWkOsmgn",
        "colab": {
          "base_uri": "https://localhost:8080/"
        },
        "outputId": "7ecf4924-52b5-4653-b714-73cbace77e4d"
      },
      "execution_count": 3,
      "outputs": [
        {
          "output_type": "stream",
          "name": "stdout",
          "text": [
            "Informe o preço da mercadoria: 20\n",
            "Informe o desconto em porcentagem (%): 10\n",
            "Valor do desconto: 2.00\n",
            "Preço a pagar: 18.00\n"
          ]
        }
      ]
    },
    {
      "cell_type": "markdown",
      "source": [
        "Exercício 04:\n",
        "\n",
        "Escreva um programa para calcular a redução do tempo de vida de um fumante.\n",
        "\n",
        "Pergunte a quantidade de cigarros fumados por dia e quantos anos ele já fumou.\n",
        "\n",
        "Considere que um fumante perde 10 minutos de vida a cada cigarro, e calcule quantos dias de vida um fumante perderá.\n",
        "\n",
        "Exiba o total em dias."
      ],
      "metadata": {
        "id": "w7WotqjLtbWN"
      }
    },
    {
      "cell_type": "code",
      "source": [
        "def calcular_tempo_perdido():\n",
        "    cigarros_por_dia = int(input(\"Informe quantos cigarros você fuma por dia: \"))\n",
        "    anos_fumando = int(input(\"Informe a quantos anos você fuma: \"))\n",
        "    dias_fumados = anos_fumando * 365\n",
        "\n",
        "    total_cigarros = cigarros_por_dia * dias_fumados\n",
        "    tempo_perdido_dias = ((total_cigarros * 10) / 60) / 24\n",
        "\n",
        "    return tempo_perdido_dias\n",
        "\n",
        "tempo_perdido = calcular_tempo_perdido()\n",
        "print(\"Você perdeu %.2f dias de vida\" % tempo_perdido)\n"
      ],
      "metadata": {
        "id": "m8NzqdV_thrF",
        "colab": {
          "base_uri": "https://localhost:8080/"
        },
        "outputId": "d732894f-386f-46f7-997f-c53b971965a7"
      },
      "execution_count": 4,
      "outputs": [
        {
          "output_type": "stream",
          "name": "stdout",
          "text": [
            "Informe quantos cigarros você fuma por dia: 10\n",
            "Informe a quantos anos você fuma: 1\n",
            "Você perdeu 25.35 dias de vida\n"
          ]
        }
      ]
    },
    {
      "cell_type": "markdown",
      "source": [
        "Exercício 05:\n",
        "\n",
        "Escreva um programa para controlar uma pequena máquina registradora.\n",
        "\n",
        "Você deve solicitar ao usuário que digite o código do produto e a quantidade comprada.\n",
        "\n",
        "Utilize a tabela de códigos a seguir para obter o preço de cada produto:\n",
        "\n",
        "Codigo | Preço\n",
        "1      | 0,50\n",
        "2      | 1,00\n",
        "3      | 4,00\n",
        "5      | 7,00\n",
        "9      | 8,00\n",
        "\n",
        "\n",
        "Seu programa deve exibir o total das compras depois que o usuário digitar O.\n",
        "\n",
        "Qualquer outro código deve gerar a mensagem de erro \"Código Inválido\"."
      ],
      "metadata": {
        "id": "zEYDi_6IZVwO"
      }
    },
    {
      "cell_type": "code",
      "source": [
        "def calcular_preco(codigo):\n",
        "    precos = {1: 0.50, 2: 1.00, 3: 4.00, 5: 7.00, 9: 8.00}\n",
        "    return precos.get(codigo, 0.00)\n",
        "\n",
        "def calcular_total():\n",
        "    total = 0.0\n",
        "\n",
        "    while True:\n",
        "        codigo = int(input(\"Digite o código do produto (ou 0 para finalizar): \"))\n",
        "        if codigo == 0:\n",
        "            break\n",
        "\n",
        "        quantidade = int(input(\"Digite a quantidade comprada: \"))\n",
        "\n",
        "        preco_unidade = calcular_preco(codigo)\n",
        "        if preco_unidade == 0:\n",
        "            print(\"Código de produto inválido\")\n",
        "        else:\n",
        "            subtotal = preco_unidade * quantidade\n",
        "            total += subtotal\n",
        "            print(f\"Subtotal para o produto {codigo}: R${subtotal:.2f}\")\n",
        "\n",
        "    return total\n",
        "\n",
        "if __name__ == \"__main__\":\n",
        "    total_compra = calcular_total()\n",
        "    print(f\"Total da compra: R${total_compra:.2f}\")\n",
        "    print(\"Obrigado por usar a máquina registradora!\")\n"
      ],
      "metadata": {
        "colab": {
          "base_uri": "https://localhost:8080/"
        },
        "id": "Fv1oykNmbagG",
        "outputId": "79069d3a-c2d5-45ab-bb23-9d3c11223b04"
      },
      "execution_count": 5,
      "outputs": [
        {
          "output_type": "stream",
          "name": "stdout",
          "text": [
            "Digite o código do produto (ou 0 para finalizar): 2\n",
            "Digite a quantidade comprada: 4\n",
            "Subtotal para o produto 2: R$4.00\n",
            "Digite o código do produto (ou 0 para finalizar): 0\n",
            "Total da compra: R$4.00\n",
            "Obrigado por usar a máquina registradora!\n"
          ]
        }
      ]
    },
    {
      "cell_type": "markdown",
      "source": [
        "Escreva um programa que pergunte o salário do funcionário e calcule o valor do aumento. Para salários superiores a R$ 1.250,00, calcule um aumento de 10%. Para os inferiores ou iguais, de 15%"
      ],
      "metadata": {
        "id": "t-gwUqLaS1fi"
      }
    },
    {
      "cell_type": "code",
      "source": [
        "salario = float(input(\"Insira o salário do funcionário: \"))\n",
        "\n",
        "if salario > 1250:\n",
        "    salario_atualizado = salario * 1.10\n",
        "else:\n",
        "    salario_atualizado = salario * 1.15\n",
        "\n",
        "print(\"Salário atualizado:\", salario_atualizado)\n"
      ],
      "metadata": {
        "colab": {
          "base_uri": "https://localhost:8080/"
        },
        "id": "8-gDhvjWS6Pp",
        "outputId": "871ccfa8-d9aa-46f1-b8cb-72725bacf787"
      },
      "execution_count": 6,
      "outputs": [
        {
          "output_type": "stream",
          "name": "stdout",
          "text": [
            "Insira o salário do funcionário: 2300\n",
            "Salário atualizado: 2530.0\n"
          ]
        }
      ]
    },
    {
      "cell_type": "markdown",
      "source": [
        "Escreva um programa que compare duas listas. Utilizando operações com conjuntos, imprima:\n",
        "• Os valores comuns às duas listas\n",
        "• Os valores que só existem na primeira\n",
        "• Os valores que existem apenas na segunda\n",
        "• Uma lista com os elementos não repetidos das duas listas.\n",
        "• A primeira lista sem os elementos repetidos na segunda"
      ],
      "metadata": {
        "id": "nz9_JiRcVGe2"
      }
    },
    {
      "cell_type": "code",
      "source": [
        "lista1 = [5, 8, 3, 1]\n",
        "lista2 = [3, 2, 8, 5]\n",
        "\n",
        "conjunto1 = set(lista1)\n",
        "conjunto2 = set(lista2)\n",
        "\n",
        "numeros_comuns = conjunto1 & conjunto2\n",
        "numeros_apenas_primeiro = conjunto1 - conjunto2\n",
        "numeros_apenas_segundo = conjunto2 - conjunto1\n",
        "elementos_nao_repetidos = conjunto1 ^ conjunto2\n",
        "primeiro_sem_repetidos_segundo = conjunto1 - conjunto2\n",
        "\n",
        "print(\"Números comuns aos dois conjuntos:\", numeros_comuns)\n",
        "print(\"Números que só existem no primeiro conjunto:\", numeros_apenas_primeiro)\n",
        "print(\"Números que só existem no segundo conjunto:\", numeros_apenas_segundo)\n",
        "print(\"Elementos não repetidos nos dois conjuntos:\", elementos_nao_repetidos)\n",
        "print(\"Primeiro conjunto, sem os elementos repetidos no segundo conjunto:\", primeiro_sem_repetidos_segundo)\n"
      ],
      "metadata": {
        "colab": {
          "base_uri": "https://localhost:8080/"
        },
        "id": "a7s7cjOyVHQ5",
        "outputId": "91e086d6-b023-4c6e-de91-f7505df05a6d"
      },
      "execution_count": 7,
      "outputs": [
        {
          "output_type": "stream",
          "name": "stdout",
          "text": [
            "Números comuns aos dois conjuntos: {8, 3, 5}\n",
            "Números que só existem no primeiro conjunto: {1}\n",
            "Números que só existem no segundo conjunto: {2}\n",
            "Elementos não repetidos nos dois conjuntos: {1, 2}\n",
            "Primeiro conjunto, sem os elementos repetidos no segundo conjunto: {1}\n"
          ]
        }
      ]
    },
    {
      "cell_type": "markdown",
      "source": [
        "Crie um código que lê um vetor de 8 posições e, em seguida, lê dois valores X e Y quaisquer correspondentes a duas posições no vetor. O programa então imprime a soma dos valores encontrados nas respectivas posições X e Y"
      ],
      "metadata": {
        "id": "wiKOrOr-XxbO"
      }
    },
    {
      "cell_type": "code",
      "source": [
        "def ler_vetor():\n",
        "    vetor = [0] * 8\n",
        "\n",
        "    for i in range(8):\n",
        "        vetor[i] = int(input(f\"Digite o valor para a posição {i}: \"))\n",
        "\n",
        "    x = int(input(\"Digite o valor de X: \"))\n",
        "    y = int(input(\"Digite o valor de Y: \"))\n",
        "\n",
        "    if x > 7 or y > 7:\n",
        "        return \"Valor inválido!\"\n",
        "\n",
        "    soma = vetor[x] + vetor[y]\n",
        "\n",
        "    print(f\"A soma dos valores nas posições X e Y é: {soma}\")\n",
        "\n",
        "ler_vetor()\n",
        "\n"
      ],
      "metadata": {
        "colab": {
          "base_uri": "https://localhost:8080/"
        },
        "id": "W380ImnqXzAg",
        "outputId": "e3f28770-278d-4289-98bb-5cb7cfbb0cf8"
      },
      "execution_count": 9,
      "outputs": [
        {
          "output_type": "stream",
          "name": "stdout",
          "text": [
            "Digite o valor para a posição 0: 10\n",
            "Digite o valor para a posição 1: 20\n",
            "Digite o valor para a posição 2: 3\n",
            "Digite o valor para a posição 3: 14\n",
            "Digite o valor para a posição 4: 50\n",
            "Digite o valor para a posição 5: 13\n",
            "Digite o valor para a posição 6: 12\n",
            "Digite o valor para a posição 7: 11\n",
            "Digite o valor de X: 2\n",
            "Digite o valor de Y: 3\n",
            "A soma dos valores nas posições X e Y é: 17\n"
          ]
        }
      ]
    },
    {
      "cell_type": "markdown",
      "source": [
        "Faça um programa que receba do usuário um vetor com 10 posições. Em seguida devera ser impresso o maior e o menor elemento do vetor."
      ],
      "metadata": {
        "id": "JVfqXX14ocg9"
      }
    },
    {
      "cell_type": "code",
      "source": [
        "def MaiorEMenor():\n",
        "    array = []\n",
        "    soma = 0\n",
        "    maiorCinco = 0\n",
        "\n",
        "    for i in range(10):\n",
        "        elemento = int(input(f\"Digite o elemento {i}: \"))  # Adicione um parêntese aqui\n",
        "        array.append(elemento)\n",
        "\n",
        "        if i == 0:\n",
        "            maior = elemento\n",
        "            menor = elemento\n",
        "        else:\n",
        "            if elemento > maior:\n",
        "                maior = elemento\n",
        "            if elemento < menor:\n",
        "                menor = elemento\n",
        "\n",
        "        if elemento > 5:\n",
        "            maiorCinco += 1\n",
        "\n",
        "        soma += elemento\n",
        "\n",
        "    media = soma / len(array)\n",
        "\n",
        "    print(f\"\\nO maior número é: {maior}\\nO menor número é: {menor}\\nA soma de todos os números é: {soma}\\nA média dos números é: {media}\\nA quantidade de números maiores que cinco é: {maiorCinco}\")\n",
        "\n",
        "MaiorEMenor()\n",
        "\n"
      ],
      "metadata": {
        "colab": {
          "base_uri": "https://localhost:8080/"
        },
        "id": "hDeDI1z0oeJL",
        "outputId": "d828cc9e-6ef2-499c-9618-96fcccaeb6c8"
      },
      "execution_count": 12,
      "outputs": [
        {
          "output_type": "stream",
          "name": "stdout",
          "text": [
            "Digite o elemento 0: 20\n",
            "Digite o elemento 1: 10\n",
            "Digite o elemento 2: 60\n",
            "Digite o elemento 3: 15\n",
            "Digite o elemento 4: 81\n",
            "Digite o elemento 5: 12\n",
            "Digite o elemento 6: 36\n",
            "Digite o elemento 7: 47\n",
            "Digite o elemento 8: 85\n",
            "Digite o elemento 9: 2\n",
            "\n",
            "O maior número é: 85\n",
            "O menor número é: 2\n",
            "A soma de todos os números é: 368\n",
            "A média dos números é: 36.8\n",
            "A quantidade de números maiores que cinco é: 9\n"
          ]
        }
      ]
    }
  ]
}